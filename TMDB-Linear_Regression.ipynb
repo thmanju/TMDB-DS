{
 "cells": [
  {
   "cell_type": "code",
   "execution_count": 5,
   "metadata": {},
   "outputs": [
    {
     "name": "stdout",
     "output_type": "stream",
     "text": [
      "Collecting jovian\n",
      "  Downloading https://files.pythonhosted.org/packages/de/a0/b4bc29837a7dd2d561e0291d40e8ebfa77ab1de5c7e9c1e338692ae47450/jovian-0.1.53.tar.gz\n",
      "Requirement already satisfied, skipping upgrade: requests in c:\\users\\manju.thumminakatti\\appdata\\local\\continuum\\anaconda3\\lib\\site-packages (from jovian) (2.18.4)\n",
      "Collecting uuid (from jovian)\n",
      "  Downloading https://files.pythonhosted.org/packages/ce/63/f42f5aa951ebf2c8dac81f77a8edcc1c218640a2a35a03b9ff2d4aa64c3d/uuid-1.30.tar.gz\n",
      "Requirement already satisfied, skipping upgrade: chardet<3.1.0,>=3.0.2 in c:\\users\\manju.thumminakatti\\appdata\\local\\continuum\\anaconda3\\lib\\site-packages (from requests->jovian) (3.0.4)\n",
      "Requirement already satisfied, skipping upgrade: idna<2.7,>=2.5 in c:\\users\\manju.thumminakatti\\appdata\\local\\continuum\\anaconda3\\lib\\site-packages (from requests->jovian) (2.6)\n",
      "Requirement already satisfied, skipping upgrade: urllib3<1.23,>=1.21.1 in c:\\users\\manju.thumminakatti\\appdata\\local\\continuum\\anaconda3\\lib\\site-packages (from requests->jovian) (1.22)\n",
      "Requirement already satisfied, skipping upgrade: certifi>=2017.4.17 in c:\\users\\manju.thumminakatti\\appdata\\local\\continuum\\anaconda3\\lib\\site-packages (from requests->jovian) (2018.4.16)\n",
      "Building wheels for collected packages: jovian, uuid\n",
      "  Building wheel for jovian (setup.py): started\n",
      "  Building wheel for jovian (setup.py): finished with status 'done'\n",
      "  Stored in directory: C:\\Users\\manju.thumminakatti\\AppData\\Local\\pip\\Cache\\wheels\\60\\73\\79\\0926f9cc17a6f1686c5b2356b299947bb3f6972f5d160916b2\n",
      "  Building wheel for uuid (setup.py): started\n",
      "  Building wheel for uuid (setup.py): finished with status 'done'\n",
      "  Stored in directory: C:\\Users\\manju.thumminakatti\\AppData\\Local\\pip\\Cache\\wheels\\2a\\80\\9b\\015026567c29fdffe31d91edbe7ba1b17728db79194fca1f21\n",
      "Successfully built jovian uuid\n",
      "Installing collected packages: uuid, jovian\n",
      "Successfully installed jovian-0.1.53 uuid-1.30\n"
     ]
    },
    {
     "name": "stderr",
     "output_type": "stream",
     "text": [
      "You are using pip version 19.0.3, however version 19.1.1 is available.\n",
      "You should consider upgrading via the 'python -m pip install --upgrade pip' command.\n"
     ]
    }
   ],
   "source": [
    "!pip install jovian --upgrade"
   ]
  },
  {
   "cell_type": "code",
   "execution_count": 6,
   "metadata": {},
   "outputs": [
    {
     "data": {
      "application/javascript": [
       "if (window.IPython && IPython.notebook.kernel) IPython.notebook.kernel.execute('jovian.utils.jupyter.get_notebook_name_saved = lambda: \"' + IPython.notebook.notebook_name + '\"')"
      ],
      "text/plain": [
       "<IPython.core.display.Javascript object>"
      ]
     },
     "metadata": {},
     "output_type": "display_data"
    }
   ],
   "source": [
    "import jovian"
   ]
  },
  {
   "cell_type": "code",
   "execution_count": null,
   "metadata": {},
   "outputs": [],
   "source": []
  }
 ],
 "metadata": {
  "kernelspec": {
   "display_name": "Python 3",
   "language": "python",
   "name": "python3"
  },
  "language_info": {
   "codemirror_mode": {
    "name": "ipython",
    "version": 3
   },
   "file_extension": ".py",
   "mimetype": "text/x-python",
   "name": "python",
   "nbconvert_exporter": "python",
   "pygments_lexer": "ipython3",
   "version": "3.6.5"
  }
 },
 "nbformat": 4,
 "nbformat_minor": 2
}
